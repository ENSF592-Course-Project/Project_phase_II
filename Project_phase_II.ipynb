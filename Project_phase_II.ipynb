{
 "cells": [
  {
   "cell_type": "markdown",
   "metadata": {},
   "source": [
    "# Project Phase II\n",
    "## Goal\n",
    "Finding the features that can affect the number of accident in Calgary City.\n",
    "All data provided is based on https://data.calgary.ca/browse\n",
    "\n",
    "## Features\n",
    "### Road Features\n",
    "#### 1. Road Speed\n",
    "    https://data.calgary.ca/Health-and-Safety/Speed-Limits-Map/rbfp-3tic\n",
    "#### 2. Average Traffic Volume\n",
    "    2018 (Traffic_Volumes_for_2018.csv)\n",
    "#### 3. Road Signals\n",
    "    a. Traffic Signals (Traffic_Signals.csv)\n",
    "    b. Traffic Signs (Traffic_Signs.csv)\n",
    "    c. Traffic cameras (Traffic_Camera_Locations.csv)\n",
    "### Weather Features\n",
    "    ● Temperature\n",
    "    ● Visibility\n",
    "    Ref: climate.weather.gc.ca\n",
    "## Marking\n",
    "    ● Analysing Data- (Visualization: 10 Marks + Conclusion: 5 Marks) (15 Marks)\n",
    "    ● Visualizing speed limit (5 Marks)\n",
    "    ● Visualizing Traffic heatmap (5 Marks)\n",
    "    ● Project Demo (5 Marks)\n",
    "    ● Total Mark: 30 Marks\n",
    "## Due date \n",
    "To upload the report(Presentation Slides) and source code: 13-Aug 11:59 midnight."
   ]
  },
  {
   "cell_type": "markdown",
   "metadata": {},
   "source": [
    "## 1. Data Preparation"
   ]
  },
  {
   "cell_type": "markdown",
   "metadata": {},
   "source": [
    "### 1.1 Data Cleaning\n",
    "    ● Read the calgary boundary from City_Boundary_layer.csv.\n",
    "    ● Draw a rectangle on Calgary map that shows the boundary of Calgary City."
   ]
  },
  {
   "cell_type": "code",
   "execution_count": 1,
   "metadata": {},
   "outputs": [],
   "source": [
    "%matplotlib inline\n",
    "\n",
    "import numpy as np\n",
    "import pandas as pd\n",
    "import geopandas as gpd\n",
    "from geopandas import GeoDataFrame\n",
    "import matplotlib.pyplot as plt\n",
    "import seaborn as sns"
   ]
  },
  {
   "cell_type": "code",
   "execution_count": 2,
   "metadata": {},
   "outputs": [],
   "source": [
    "# load boundary from csv and store long/lat separately in df\n",
    "import re\n",
    "city_boundary_df = pd.read_csv('City_Boundary_layer.csv')\n",
    "geom = city_boundary_df.iloc[0]['the_geom']\n",
    "g=re.split(\"POLYGON\", geom)[1].strip()\n",
    "temp = pd.DataFrame(re.sub('[()]', '', g).split(', '))\n",
    "boundary_coordinates_df=temp[0].str.split(\" \", n = 1, expand = True).astype(float)\n",
    "boundary_coordinates_df.columns=['Longitude', 'Latitude']\n",
    "#boundary_coordinates_df.describe()"
   ]
  },
  {
   "cell_type": "code",
   "execution_count": 3,
   "metadata": {},
   "outputs": [
    {
     "name": "stdout",
     "output_type": "stream",
     "text": [
      "0    POLYGON ((-113.85990 51.21243, -113.85990 50.8...\n",
      "Name: geometry, dtype: geometry\n"
     ]
    }
   ],
   "source": [
    "from shapely.geometry import Polygon\n",
    "# boundaries in four directions w, e, n, s\n",
    "w = boundary_coordinates_df['Longitude'].max()\n",
    "e = boundary_coordinates_df['Longitude'].min()\n",
    "n = boundary_coordinates_df['Latitude'].max()\n",
    "s = boundary_coordinates_df['Latitude'].min()\n",
    "polygon_geom = Polygon([(w, n), (w, s), (e, s), (e, n)])\n",
    "crs = 'epsg:4326'\n",
    "polygon = gpd.GeoDataFrame(index=[0], crs=crs, geometry=[polygon_geom])       \n",
    "print(polygon.geometry)"
   ]
  },
  {
   "cell_type": "code",
   "execution_count": 4,
   "metadata": {},
   "outputs": [
    {
     "data": {
      "text/html": [
       "<div style=\"width:100%;\"><div style=\"position:relative;width:100%;height:0;padding-bottom:60%;\"><span style=\"color:#565656\">Make this Notebook Trusted to load map: File -> Trust Notebook</span><iframe src=\"about:blank\" style=\"position:absolute;width:100%;height:100%;left:0;top:0;border:none !important;\" data-html=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 onload=\"this.contentDocument.open();this.contentDocument.write(atob(this.getAttribute('data-html')));this.contentDocument.close();\" allowfullscreen webkitallowfullscreen mozallowfullscreen></iframe></div></div>"
      ],
      "text/plain": [
       "<folium.folium.Map at 0x1a1ae5d510>"
      ]
     },
     "execution_count": 4,
     "metadata": {},
     "output_type": "execute_result"
    }
   ],
   "source": [
    "import folium\n",
    "\n",
    "\n",
    "map = folium.Map(location=[51.03011, -114.08529], zoom_start = 10)\n",
    "folium.GeoJson(polygon).add_to(map)\n",
    "folium.LatLngPopup().add_to(map)\n",
    "map\n",
    "# map.choropleth(geo_data=city_boundary_gdf['geometry'])"
   ]
  },
  {
   "cell_type": "markdown",
   "metadata": {},
   "source": [
    "### 1.2 Data Merging\n",
    "    ● Divide calgary to a 10x10 matrix of areas. \n",
    "      You need to investigate each area according to different features."
   ]
  },
  {
   "cell_type": "code",
   "execution_count": 5,
   "metadata": {},
   "outputs": [
    {
     "data": {
      "text/html": [
       "<div>\n",
       "<style scoped>\n",
       "    .dataframe tbody tr th:only-of-type {\n",
       "        vertical-align: middle;\n",
       "    }\n",
       "\n",
       "    .dataframe tbody tr th {\n",
       "        vertical-align: top;\n",
       "    }\n",
       "\n",
       "    .dataframe thead th {\n",
       "        text-align: right;\n",
       "    }\n",
       "</style>\n",
       "<table border=\"1\" class=\"dataframe\">\n",
       "  <thead>\n",
       "    <tr style=\"text-align: right;\">\n",
       "      <th></th>\n",
       "      <th>Grid Names</th>\n",
       "      <th>West Boundary</th>\n",
       "      <th>East Boundary</th>\n",
       "      <th>North Boundary</th>\n",
       "      <th>South Boundary</th>\n",
       "      <th>geometry</th>\n",
       "    </tr>\n",
       "  </thead>\n",
       "  <tbody>\n",
       "    <tr>\n",
       "      <th>0</th>\n",
       "      <td>grid00</td>\n",
       "      <td>-114.315796</td>\n",
       "      <td>-114.270207</td>\n",
       "      <td>51.212425</td>\n",
       "      <td>51.175465</td>\n",
       "      <td>POLYGON ((-114.31580 51.21243, -114.31580 51.1...</td>\n",
       "    </tr>\n",
       "    <tr>\n",
       "      <th>1</th>\n",
       "      <td>grid01</td>\n",
       "      <td>-114.315796</td>\n",
       "      <td>-114.270207</td>\n",
       "      <td>51.175465</td>\n",
       "      <td>51.138504</td>\n",
       "      <td>POLYGON ((-114.31580 51.17546, -114.31580 51.1...</td>\n",
       "    </tr>\n",
       "    <tr>\n",
       "      <th>2</th>\n",
       "      <td>grid02</td>\n",
       "      <td>-114.315796</td>\n",
       "      <td>-114.270207</td>\n",
       "      <td>51.138504</td>\n",
       "      <td>51.101544</td>\n",
       "      <td>POLYGON ((-114.31580 51.13850, -114.31580 51.1...</td>\n",
       "    </tr>\n",
       "    <tr>\n",
       "      <th>3</th>\n",
       "      <td>grid03</td>\n",
       "      <td>-114.315796</td>\n",
       "      <td>-114.270207</td>\n",
       "      <td>51.101544</td>\n",
       "      <td>51.064584</td>\n",
       "      <td>POLYGON ((-114.31580 51.10154, -114.31580 51.0...</td>\n",
       "    </tr>\n",
       "    <tr>\n",
       "      <th>4</th>\n",
       "      <td>grid04</td>\n",
       "      <td>-114.315796</td>\n",
       "      <td>-114.270207</td>\n",
       "      <td>51.064584</td>\n",
       "      <td>51.027624</td>\n",
       "      <td>POLYGON ((-114.31580 51.06458, -114.31580 51.0...</td>\n",
       "    </tr>\n",
       "    <tr>\n",
       "      <th>...</th>\n",
       "      <td>...</td>\n",
       "      <td>...</td>\n",
       "      <td>...</td>\n",
       "      <td>...</td>\n",
       "      <td>...</td>\n",
       "      <td>...</td>\n",
       "    </tr>\n",
       "    <tr>\n",
       "      <th>95</th>\n",
       "      <td>grid95</td>\n",
       "      <td>-113.905494</td>\n",
       "      <td>-113.859905</td>\n",
       "      <td>51.027624</td>\n",
       "      <td>50.990663</td>\n",
       "      <td>POLYGON ((-113.90549 51.02762, -113.90549 50.9...</td>\n",
       "    </tr>\n",
       "    <tr>\n",
       "      <th>96</th>\n",
       "      <td>grid96</td>\n",
       "      <td>-113.905494</td>\n",
       "      <td>-113.859905</td>\n",
       "      <td>50.990663</td>\n",
       "      <td>50.953703</td>\n",
       "      <td>POLYGON ((-113.90549 50.99066, -113.90549 50.9...</td>\n",
       "    </tr>\n",
       "    <tr>\n",
       "      <th>97</th>\n",
       "      <td>grid97</td>\n",
       "      <td>-113.905494</td>\n",
       "      <td>-113.859905</td>\n",
       "      <td>50.953703</td>\n",
       "      <td>50.916743</td>\n",
       "      <td>POLYGON ((-113.90549 50.95370, -113.90549 50.9...</td>\n",
       "    </tr>\n",
       "    <tr>\n",
       "      <th>98</th>\n",
       "      <td>grid98</td>\n",
       "      <td>-113.905494</td>\n",
       "      <td>-113.859905</td>\n",
       "      <td>50.916743</td>\n",
       "      <td>50.879782</td>\n",
       "      <td>POLYGON ((-113.90549 50.91674, -113.90549 50.8...</td>\n",
       "    </tr>\n",
       "    <tr>\n",
       "      <th>99</th>\n",
       "      <td>grid99</td>\n",
       "      <td>-113.905494</td>\n",
       "      <td>-113.859905</td>\n",
       "      <td>50.879782</td>\n",
       "      <td>50.842822</td>\n",
       "      <td>POLYGON ((-113.90549 50.87978, -113.90549 50.8...</td>\n",
       "    </tr>\n",
       "  </tbody>\n",
       "</table>\n",
       "<p>100 rows × 6 columns</p>\n",
       "</div>"
      ],
      "text/plain": [
       "   Grid Names  West Boundary  East Boundary  North Boundary  South Boundary  \\\n",
       "0      grid00    -114.315796    -114.270207       51.212425       51.175465   \n",
       "1      grid01    -114.315796    -114.270207       51.175465       51.138504   \n",
       "2      grid02    -114.315796    -114.270207       51.138504       51.101544   \n",
       "3      grid03    -114.315796    -114.270207       51.101544       51.064584   \n",
       "4      grid04    -114.315796    -114.270207       51.064584       51.027624   \n",
       "..        ...            ...            ...             ...             ...   \n",
       "95     grid95    -113.905494    -113.859905       51.027624       50.990663   \n",
       "96     grid96    -113.905494    -113.859905       50.990663       50.953703   \n",
       "97     grid97    -113.905494    -113.859905       50.953703       50.916743   \n",
       "98     grid98    -113.905494    -113.859905       50.916743       50.879782   \n",
       "99     grid99    -113.905494    -113.859905       50.879782       50.842822   \n",
       "\n",
       "                                             geometry  \n",
       "0   POLYGON ((-114.31580 51.21243, -114.31580 51.1...  \n",
       "1   POLYGON ((-114.31580 51.17546, -114.31580 51.1...  \n",
       "2   POLYGON ((-114.31580 51.13850, -114.31580 51.1...  \n",
       "3   POLYGON ((-114.31580 51.10154, -114.31580 51.0...  \n",
       "4   POLYGON ((-114.31580 51.06458, -114.31580 51.0...  \n",
       "..                                                ...  \n",
       "95  POLYGON ((-113.90549 51.02762, -113.90549 50.9...  \n",
       "96  POLYGON ((-113.90549 50.99066, -113.90549 50.9...  \n",
       "97  POLYGON ((-113.90549 50.95370, -113.90549 50.9...  \n",
       "98  POLYGON ((-113.90549 50.91674, -113.90549 50.8...  \n",
       "99  POLYGON ((-113.90549 50.87978, -113.90549 50.8...  \n",
       "\n",
       "[100 rows x 6 columns]"
      ]
     },
     "execution_count": 5,
     "metadata": {},
     "output_type": "execute_result"
    }
   ],
   "source": [
    "\n",
    "# generate 11*1 1-d array, listing longitude from w to e\n",
    "x = np.linspace(w, e, num=11)[::-1]\n",
    "# generate 1*11 1-d array, listing latitude from n to s\n",
    "y = np.linspace(n, s, num=11)\n",
    "# generate 11*11 2-d array, listing longitude and latitude separately in xv and yv\n",
    "xv, yv = np.meshgrid(x, y, indexing='ij')\n",
    "# https://numpy.org/doc/stable/reference/generated/numpy.meshgrid.html\n",
    "# grids are named following the pattern \"grid\" + x + y, \n",
    "# e.g. northwest corner is named grid00 and southeast corner grid is named grid99\n",
    "grid_names=[]\n",
    "west_boundary=[]\n",
    "east_boundary=[]\n",
    "north_boundary=[]\n",
    "south_boundary=[]\n",
    "polygons=[]\n",
    "for i in range(10):\n",
    "    for j in range(10):\n",
    "        # write grid names into df\n",
    "        grid_names.append('grid{}{}'.format(i,j))\n",
    "        # write 4 boundaries into df\n",
    "        west_boundary.append(x[i])\n",
    "        east_boundary.append(x[i+1])\n",
    "        north_boundary.append(y[j])\n",
    "        south_boundary.append(y[j+1])\n",
    "        # find the nw, sw, se, ne corner coordinates and store in df\n",
    "        grid_corners=[\n",
    "            (xv[i][j], yv[i][j]), \n",
    "            (xv[i][j+1], yv[i][j+1]), \n",
    "            (xv[i+1][j+1], yv[i+1][j+1]), \n",
    "            (xv[i+1][j], yv[i+1][j])\n",
    "        ]    \n",
    "        polygons.append(Polygon(grid_corners))\n",
    "\n",
    "grid_df = pd.DataFrame({'Grid Names':grid_names, \n",
    "                       'West Boundary':west_boundary, \n",
    "                       'East Boundary':east_boundary, \n",
    "                       'North Boundary':north_boundary, \n",
    "                       'South Boundary':south_boundary})\n",
    "\n",
    "polygon_gdf = gpd.GeoDataFrame(crs='epsg:4326', geometry=polygons) \n",
    "grid_df = pd.concat([grid_df, polygon_gdf['geometry']], axis=1)\n",
    "folium.GeoJson(polygon_gdf).add_to(map)\n",
    "map\n",
    "grid_df"
   ]
  },
  {
   "cell_type": "markdown",
   "metadata": {},
   "source": [
    "## 2. Data Aggregation\n",
    "For Each area (grid) calculate the following features: (15 Marks)\n",
    "\n",
    "    ● Average speed limit\n",
    "    ● Average Traffic volume\n",
    "    ● Average number of traffic cameras\n",
    "    ● Number of Traffic Signals\n",
    "    ● Number of Traffic Signs\n",
    "    ● Daily Weather Condition\n",
    "        ○ Temperature\n",
    "        ○ Visibility\n",
    "    ● Target: Average number of Traffic accidents\n",
    "    ● Analyse the data and interpret what is the relation between the number of\n",
    "    accidents and the above feature in 2018. (Use different techniques of visualizing\n",
    "    data like histogram, scatter plot, line graph, heatmap to interpret your answer)"
   ]
  },
  {
   "cell_type": "markdown",
   "metadata": {},
   "source": [
    "### 2.1 Analysing a specific group of data"
   ]
  },
  {
   "cell_type": "code",
   "execution_count": 6,
   "metadata": {},
   "outputs": [
    {
     "data": {
      "text/html": [
       "<div>\n",
       "<style scoped>\n",
       "    .dataframe tbody tr th:only-of-type {\n",
       "        vertical-align: middle;\n",
       "    }\n",
       "\n",
       "    .dataframe tbody tr th {\n",
       "        vertical-align: top;\n",
       "    }\n",
       "\n",
       "    .dataframe thead th {\n",
       "        text-align: right;\n",
       "    }\n",
       "</style>\n",
       "<table border=\"1\" class=\"dataframe\">\n",
       "  <thead>\n",
       "    <tr style=\"text-align: right;\">\n",
       "      <th></th>\n",
       "      <th>Camera Location</th>\n",
       "      <th>Quadrant</th>\n",
       "      <th>Camera URL</th>\n",
       "      <th>longitude</th>\n",
       "      <th>latitude</th>\n",
       "    </tr>\n",
       "  </thead>\n",
       "  <tbody>\n",
       "    <tr>\n",
       "      <th>0</th>\n",
       "      <td>Stoney Trail / Deerfoot Trail SE</td>\n",
       "      <td>SE</td>\n",
       "      <td>http://trafficcam.calgary.ca/loc86.jpg</td>\n",
       "      <td>-113.976606</td>\n",
       "      <td>50.900726</td>\n",
       "    </tr>\n",
       "    <tr>\n",
       "      <th>1</th>\n",
       "      <td>Memorial Drive / 52 Street E</td>\n",
       "      <td>NE</td>\n",
       "      <td>http://trafficcam.calgary.ca/loc3.jpg</td>\n",
       "      <td>-113.955818</td>\n",
       "      <td>51.053253</td>\n",
       "    </tr>\n",
       "    <tr>\n",
       "      <th>2</th>\n",
       "      <td>Crowchild Trail / Shaganappi Trail NW</td>\n",
       "      <td>NW</td>\n",
       "      <td>http://trafficcam.calgary.ca/loc37.jpg</td>\n",
       "      <td>-114.149379</td>\n",
       "      <td>51.098849</td>\n",
       "    </tr>\n",
       "    <tr>\n",
       "      <th>3</th>\n",
       "      <td>Crowchild Trail / Sarcee Trail NW</td>\n",
       "      <td>NW</td>\n",
       "      <td>http://trafficcam.calgary.ca/loc126.jpg</td>\n",
       "      <td>-114.178204</td>\n",
       "      <td>51.111255</td>\n",
       "    </tr>\n",
       "    <tr>\n",
       "      <th>4</th>\n",
       "      <td>Airport Trail / Barlow Trail NE</td>\n",
       "      <td>NE</td>\n",
       "      <td>http://trafficcam.calgary.ca/loc114.jpg</td>\n",
       "      <td>-114.001451</td>\n",
       "      <td>51.139352</td>\n",
       "    </tr>\n",
       "    <tr>\n",
       "      <th>...</th>\n",
       "      <td>...</td>\n",
       "      <td>...</td>\n",
       "      <td>...</td>\n",
       "      <td>...</td>\n",
       "      <td>...</td>\n",
       "    </tr>\n",
       "    <tr>\n",
       "      <th>121</th>\n",
       "      <td>Memorial Drive / Edmonton Trail NE</td>\n",
       "      <td>NE</td>\n",
       "      <td>http://trafficcam.calgary.ca/loc30.jpg</td>\n",
       "      <td>-114.050136</td>\n",
       "      <td>51.050802</td>\n",
       "    </tr>\n",
       "    <tr>\n",
       "      <th>122</th>\n",
       "      <td>Glenmore Trail / Barlow Trail SE</td>\n",
       "      <td>SE</td>\n",
       "      <td>http://trafficcam.calgary.ca/loc98.jpg</td>\n",
       "      <td>-113.981495</td>\n",
       "      <td>50.979446</td>\n",
       "    </tr>\n",
       "    <tr>\n",
       "      <th>123</th>\n",
       "      <td>Glenmore Trail / Stoney Trail SE</td>\n",
       "      <td>SE</td>\n",
       "      <td>http://trafficcam.calgary.ca/loc128.jpg</td>\n",
       "      <td>-113.929263</td>\n",
       "      <td>50.979635</td>\n",
       "    </tr>\n",
       "    <tr>\n",
       "      <th>124</th>\n",
       "      <td>5 Avenue / 5 Street SW</td>\n",
       "      <td>SW</td>\n",
       "      <td>http://trafficcam.calgary.ca/loc122.jpg</td>\n",
       "      <td>-114.073644</td>\n",
       "      <td>51.048677</td>\n",
       "    </tr>\n",
       "    <tr>\n",
       "      <th>125</th>\n",
       "      <td>9 Avenue / 3 Street SE</td>\n",
       "      <td>SE</td>\n",
       "      <td>http://trafficcam.calgary.ca/loc91.jpg</td>\n",
       "      <td>-114.055664</td>\n",
       "      <td>51.044390</td>\n",
       "    </tr>\n",
       "  </tbody>\n",
       "</table>\n",
       "<p>126 rows × 5 columns</p>\n",
       "</div>"
      ],
      "text/plain": [
       "                           Camera Location Quadrant  \\\n",
       "0         Stoney Trail / Deerfoot Trail SE       SE   \n",
       "1             Memorial Drive / 52 Street E       NE   \n",
       "2    Crowchild Trail / Shaganappi Trail NW       NW   \n",
       "3        Crowchild Trail / Sarcee Trail NW       NW   \n",
       "4          Airport Trail / Barlow Trail NE       NE   \n",
       "..                                     ...      ...   \n",
       "121     Memorial Drive / Edmonton Trail NE       NE   \n",
       "122       Glenmore Trail / Barlow Trail SE       SE   \n",
       "123       Glenmore Trail / Stoney Trail SE       SE   \n",
       "124                 5 Avenue / 5 Street SW       SW   \n",
       "125                 9 Avenue / 3 Street SE       SE   \n",
       "\n",
       "                                  Camera URL   longitude   latitude  \n",
       "0     http://trafficcam.calgary.ca/loc86.jpg -113.976606  50.900726  \n",
       "1      http://trafficcam.calgary.ca/loc3.jpg -113.955818  51.053253  \n",
       "2     http://trafficcam.calgary.ca/loc37.jpg -114.149379  51.098849  \n",
       "3    http://trafficcam.calgary.ca/loc126.jpg -114.178204  51.111255  \n",
       "4    http://trafficcam.calgary.ca/loc114.jpg -114.001451  51.139352  \n",
       "..                                       ...         ...        ...  \n",
       "121   http://trafficcam.calgary.ca/loc30.jpg -114.050136  51.050802  \n",
       "122   http://trafficcam.calgary.ca/loc98.jpg -113.981495  50.979446  \n",
       "123  http://trafficcam.calgary.ca/loc128.jpg -113.929263  50.979635  \n",
       "124  http://trafficcam.calgary.ca/loc122.jpg -114.073644  51.048677  \n",
       "125   http://trafficcam.calgary.ca/loc91.jpg -114.055664  51.044390  \n",
       "\n",
       "[126 rows x 5 columns]"
      ]
     },
     "execution_count": 6,
     "metadata": {},
     "output_type": "execute_result"
    }
   ],
   "source": [
    "speed_df = pd.read_csv('Speed_Limits.csv')  # coord in MULTILINESTRING\n",
    "volume_df = pd.read_csv('Traffic_Volumes_for_2018.csv')  # coord in MULTILINESTRING\n",
    "cameras_df = pd.read_csv('Traffic_Camera_Locations.csv')  # coord in separate longitude and latitude columns\n",
    "signals_df = pd.read_csv('Traffic_Signals.csv')  # coord in separate longitude and latitude columns\n",
    "signs_df = pd.read_csv('Traffic_Signs.csv')  # coord in POINT columns\n",
    "incident_df = pd.read_csv('Traffic_Incidents.csv')  # coord in separate longitude and latitude columns\n",
    "# TODO weather_df = \n",
    "cameras_df"
   ]
  },
  {
   "cell_type": "markdown",
   "metadata": {},
   "source": [
    "#### 2.1.1 Average speed limit\n",
    "##### Several options to interpret coordinates in MULTILINESTRING:\n",
    "1. Most complicated way: Parse all coordinates inside the MULTILINESTRING, calculate the weighted speed/volumn in each sections in grids\n",
    "2. Simplist way: Only use start or end or middle point of MULTILINESTRING. \n",
    "3. A little complicated way: parse whole MULTILINESTRING, count in every grid that those coordinates lays in."
   ]
  },
  {
   "cell_type": "code",
   "execution_count": null,
   "metadata": {},
   "outputs": [],
   "source": []
  },
  {
   "cell_type": "markdown",
   "metadata": {},
   "source": [
    "#### 2.1.2 Average Traffic volume\n",
    "##### Several options to interpret coordinates in MULTILINESTRING:\n",
    "1. Most complicated way: Parse all coordinates inside the MULTILINESTRING, calculate the weighted speed/volumn in each sections in grids\n",
    "2. Simplist way: Only use start or end or middle point of MULTILINESTRING. \n",
    "3. A little complicated way: parse whole MULTILINESTRING, count in every grid that those coordinates lays in."
   ]
  },
  {
   "cell_type": "code",
   "execution_count": null,
   "metadata": {},
   "outputs": [],
   "source": []
  },
  {
   "cell_type": "markdown",
   "metadata": {},
   "source": [
    "#### 2.1.3 Total Number of Traffic Cameras"
   ]
  },
  {
   "cell_type": "code",
   "execution_count": 13,
   "metadata": {},
   "outputs": [
    {
     "data": {
      "text/plain": [
       "0     0.0\n",
       "1     0.0\n",
       "2     0.0\n",
       "3     0.0\n",
       "4     0.0\n",
       "     ... \n",
       "95    0.0\n",
       "96    0.0\n",
       "97    0.0\n",
       "98    0.0\n",
       "99    0.0\n",
       "Name: Camera_Count, Length: 100, dtype: float64"
      ]
     },
     "execution_count": 13,
     "metadata": {},
     "output_type": "execute_result"
    }
   ],
   "source": [
    "# check if points are inside of grid polygon\n",
    "from shapely.geometry import Point, Polygon\n",
    "grid_df.assign(Camera_Count=np.nan)\n",
    "idx=0\n",
    "for polygon in grid_df['geometry']:\n",
    "    count=0\n",
    "    for long, lat in zip(cameras_df['longitude'], cameras_df['latitude']):\n",
    "        point = Point(long, lat)\n",
    "        if point.within(polygon):\n",
    "            count+=1\n",
    "    grid_df.at[idx, 'Camera_Count'] = count\n",
    "    idx+=1\n",
    "grid_df['Camera_Count']"
   ]
  },
  {
   "cell_type": "markdown",
   "metadata": {},
   "source": [
    "#### 2.1.4 Total Number of Traffic Signals"
   ]
  },
  {
   "cell_type": "code",
   "execution_count": null,
   "metadata": {},
   "outputs": [],
   "source": []
  },
  {
   "cell_type": "markdown",
   "metadata": {},
   "source": [
    "#### 2.1.5 Total Number of Traffic Signs"
   ]
  },
  {
   "cell_type": "code",
   "execution_count": null,
   "metadata": {},
   "outputs": [],
   "source": []
  },
  {
   "cell_type": "markdown",
   "metadata": {},
   "source": [
    "### 2.2 Traffic Accidents Analysis\n",
    "#### 2.2.1 Average number of Traffic Accidents"
   ]
  },
  {
   "cell_type": "code",
   "execution_count": null,
   "metadata": {},
   "outputs": [],
   "source": []
  },
  {
   "cell_type": "markdown",
   "metadata": {},
   "source": [
    "#### 2.2.2 Daily Weather Conditions"
   ]
  },
  {
   "cell_type": "code",
   "execution_count": null,
   "metadata": {},
   "outputs": [],
   "source": []
  },
  {
   "cell_type": "markdown",
   "metadata": {},
   "source": [
    "#### 2.2.3 Correlation Analysis between features and Traffic Accidents"
   ]
  },
  {
   "cell_type": "code",
   "execution_count": null,
   "metadata": {},
   "outputs": [],
   "source": []
  },
  {
   "cell_type": "markdown",
   "metadata": {},
   "source": [
    "## 3. Visualization"
   ]
  },
  {
   "cell_type": "markdown",
   "metadata": {},
   "source": [
    "### 3.1 Visualize the speed limit according to the roads. (5 Marks)"
   ]
  },
  {
   "cell_type": "code",
   "execution_count": null,
   "metadata": {},
   "outputs": [],
   "source": []
  },
  {
   "cell_type": "markdown",
   "metadata": {},
   "source": [
    "### 3.2 Show traffic heatmap of 2018. (5 Marks)"
   ]
  },
  {
   "cell_type": "code",
   "execution_count": null,
   "metadata": {},
   "outputs": [],
   "source": []
  }
 ],
 "metadata": {
  "kernelspec": {
   "display_name": "Python 3",
   "language": "python",
   "name": "python3"
  },
  "language_info": {
   "codemirror_mode": {
    "name": "ipython",
    "version": 3
   },
   "file_extension": ".py",
   "mimetype": "text/x-python",
   "name": "python",
   "nbconvert_exporter": "python",
   "pygments_lexer": "ipython3",
   "version": "3.7.6"
  }
 },
 "nbformat": 4,
 "nbformat_minor": 4
}
